{
 "cells": [
  {
   "cell_type": "markdown",
   "metadata": {},
   "source": [
    "# Heart disease project\n",
    "\n",
    "This project is about classifying whether or not a patient has heart disease."
   ]
  },
  {
   "cell_type": "code",
   "execution_count": 1,
   "metadata": {},
   "outputs": [],
   "source": [
    "import pandas as pd"
   ]
  },
  {
   "cell_type": "code",
   "execution_count": 6,
   "metadata": {},
   "outputs": [
    {
     "name": "stdout",
     "output_type": "stream",
     "text": [
      " Volume in drive E is Application\n",
      " Volume Serial Number is 3C7D-A219\n",
      "\n",
      " Directory of E:\\LMS_files\\python\\PyCharmProjects\\Vscode\\machinelearning\n",
      "\n",
      "10/03/2020  01:42 PM    <DIR>          .\n",
      "10/03/2020  01:42 PM    <DIR>          ..\n",
      "10/03/2020  01:32 PM    <DIR>          .ipynb_checkpoints\n",
      "10/03/2020  01:25 PM               835 Pipfile\n",
      "10/03/2020  01:25 PM            51,332 Pipfile.lock\n",
      "10/03/2020  11:58 AM             1,278 README.md\n",
      "10/03/2020  01:30 PM             1,502 requirements.txt\n",
      "10/03/2020  01:42 PM               785 sample_notebook.ipynb\n",
      "10/03/2020  11:40 AM             1,675 test.py\n",
      "               6 File(s)         57,407 bytes\n",
      "               3 Dir(s)  644,688,941,056 bytes free\n"
     ]
    }
   ],
   "source": [
    "ls"
   ]
  }
 ],
 "metadata": {
  "kernelspec": {
   "display_name": "Python 3",
   "language": "python",
   "name": "python3"
  },
  "language_info": {
   "codemirror_mode": {
    "name": "ipython",
    "version": 3
   },
   "file_extension": ".py",
   "mimetype": "text/x-python",
   "name": "python",
   "nbconvert_exporter": "python",
   "pygments_lexer": "ipython3",
   "version": "3.7.0"
  }
 },
 "nbformat": 4,
 "nbformat_minor": 4
}
